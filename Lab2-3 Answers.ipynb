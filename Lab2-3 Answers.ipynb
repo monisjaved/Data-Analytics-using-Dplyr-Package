{
 "cells": [
  {
   "cell_type": "code",
   "execution_count": 1,
   "metadata": {
    "collapsed": false
   },
   "outputs": [
    {
     "name": "stderr",
     "output_type": "stream",
     "text": [
      "\n",
      "Attaching package: ‘dplyr’\n",
      "\n",
      "The following objects are masked from ‘package:stats’:\n",
      "\n",
      "    filter, lag\n",
      "\n",
      "The following objects are masked from ‘package:base’:\n",
      "\n",
      "    intersect, setdiff, setequal, union\n",
      "\n"
     ]
    }
   ],
   "source": [
    "# load library\n",
    "library(dplyr)"
   ]
  },
  {
   "cell_type": "code",
   "execution_count": 2,
   "metadata": {
    "collapsed": false,
    "scrolled": true
   },
   "outputs": [],
   "source": [
    "# load players and teams csv\n",
    "playerDF <- read.csv(file = \"players.csv\")\n",
    "teamDF <- read.csv(file = \"teams.csv\")"
   ]
  },
  {
   "cell_type": "code",
   "execution_count": 3,
   "metadata": {
    "collapsed": false
   },
   "outputs": [
    {
     "data": {
      "text/html": [
       "<table>\n",
       "<thead><tr><th scope=col>player_api_id</th><th scope=col>player_name</th><th scope=col>overall_rating</th></tr></thead>\n",
       "<tbody>\n",
       "\t<tr><td>30981             </td><td>Lionel Messi      </td><td>94                </td></tr>\n",
       "\t<tr><td>30893             </td><td>Cristiano Ronaldo </td><td>93                </td></tr>\n",
       "\t<tr><td>19533             </td><td>Neymar            </td><td>90                </td></tr>\n",
       "\t<tr><td>27299             </td><td>Manuel Neuer      </td><td>90                </td></tr>\n",
       "\t<tr><td>40636             </td><td>Luis Suarez       </td><td>90                </td></tr>\n",
       "\t<tr><td>30834             </td><td>Arjen Robben      </td><td>89                </td></tr>\n",
       "\t<tr><td>35724             </td><td>Zlatan Ibrahimovic</td><td>89                </td></tr>\n",
       "\t<tr><td>30955             </td><td>Andres Iniesta    </td><td>88                </td></tr>\n",
       "\t<tr><td>36378             </td><td>Mesut Oezil       </td><td>88                </td></tr>\n",
       "\t<tr><td>37412             </td><td>Sergio Aguero     </td><td>88                </td></tr>\n",
       "</tbody>\n",
       "</table>\n"
      ],
      "text/latex": [
       "\\begin{tabular}{r|lll}\n",
       " player\\_api\\_id & player\\_name & overall\\_rating\\\\\n",
       "\\hline\n",
       "\t 30981              & Lionel Messi       & 94                \\\\\n",
       "\t 30893              & Cristiano Ronaldo  & 93                \\\\\n",
       "\t 19533              & Neymar             & 90                \\\\\n",
       "\t 27299              & Manuel Neuer       & 90                \\\\\n",
       "\t 40636              & Luis Suarez        & 90                \\\\\n",
       "\t 30834              & Arjen Robben       & 89                \\\\\n",
       "\t 35724              & Zlatan Ibrahimovic & 89                \\\\\n",
       "\t 30955              & Andres Iniesta     & 88                \\\\\n",
       "\t 36378              & Mesut Oezil        & 88                \\\\\n",
       "\t 37412              & Sergio Aguero      & 88                \\\\\n",
       "\\end{tabular}\n"
      ],
      "text/markdown": [
       "\n",
       "player_api_id | player_name | overall_rating | \n",
       "|---|---|---|---|---|---|---|---|---|---|\n",
       "| 30981              | Lionel Messi       | 94                 | \n",
       "| 30893              | Cristiano Ronaldo  | 93                 | \n",
       "| 19533              | Neymar             | 90                 | \n",
       "| 27299              | Manuel Neuer       | 90                 | \n",
       "| 40636              | Luis Suarez        | 90                 | \n",
       "| 30834              | Arjen Robben       | 89                 | \n",
       "| 35724              | Zlatan Ibrahimovic | 89                 | \n",
       "| 30955              | Andres Iniesta     | 88                 | \n",
       "| 36378              | Mesut Oezil        | 88                 | \n",
       "| 37412              | Sergio Aguero      | 88                 | \n",
       "\n",
       "\n"
      ],
      "text/plain": [
       "   player_api_id player_name        overall_rating\n",
       "1  30981         Lionel Messi       94            \n",
       "2  30893         Cristiano Ronaldo  93            \n",
       "3  19533         Neymar             90            \n",
       "4  27299         Manuel Neuer       90            \n",
       "5  40636         Luis Suarez        90            \n",
       "6  30834         Arjen Robben       89            \n",
       "7  35724         Zlatan Ibrahimovic 89            \n",
       "8  30955         Andres Iniesta     88            \n",
       "9  36378         Mesut Oezil        88            \n",
       "10 37412         Sergio Aguero      88            "
      ]
     },
     "metadata": {},
     "output_type": "display_data"
    }
   ],
   "source": [
    "# Which are the top 10 players by overall rating?\n",
    "playerDF %>% arrange(desc(overall_rating)) %>% \n",
    "            slice(1:10) %>% \n",
    "            select(player_api_id,player_name,overall_rating)"
   ]
  },
  {
   "cell_type": "code",
   "execution_count": 4,
   "metadata": {
    "collapsed": false
   },
   "outputs": [
    {
     "data": {
      "text/html": [
       "<table>\n",
       "<thead><tr><th scope=col>player_api_id</th><th scope=col>player_name</th><th scope=col>gk_rating</th></tr></thead>\n",
       "<tbody>\n",
       "\t<tr><td> 27299           </td><td>Manuel Neuer     </td><td>355              </td></tr>\n",
       "\t<tr><td>182917           </td><td>David De Gea     </td><td>341              </td></tr>\n",
       "\t<tr><td> 30726           </td><td>Edwin van der Sar</td><td>340              </td></tr>\n",
       "\t<tr><td> 27341           </td><td>Robert Enke,30   </td><td>339              </td></tr>\n",
       "\t<tr><td> 37421           </td><td>Claudio Bravo    </td><td>333              </td></tr>\n",
       "\t<tr><td> 30859           </td><td>Petr Cech        </td><td>331              </td></tr>\n",
       "\t<tr><td>215168           </td><td>Bernd Leno       </td><td>331              </td></tr>\n",
       "\t<tr><td>170323           </td><td>Thibaut Courtois </td><td>330              </td></tr>\n",
       "\t<tr><td> 31432           </td><td>Joe Hart         </td><td>328              </td></tr>\n",
       "\t<tr><td> 30660           </td><td>Pepe Reina       </td><td>327              </td></tr>\n",
       "</tbody>\n",
       "</table>\n"
      ],
      "text/latex": [
       "\\begin{tabular}{r|lll}\n",
       " player\\_api\\_id & player\\_name & gk\\_rating\\\\\n",
       "\\hline\n",
       "\t  27299            & Manuel Neuer      & 355              \\\\\n",
       "\t 182917            & David De Gea      & 341              \\\\\n",
       "\t  30726            & Edwin van der Sar & 340              \\\\\n",
       "\t  27341            & Robert Enke,30    & 339              \\\\\n",
       "\t  37421            & Claudio Bravo     & 333              \\\\\n",
       "\t  30859            & Petr Cech         & 331              \\\\\n",
       "\t 215168            & Bernd Leno        & 331              \\\\\n",
       "\t 170323            & Thibaut Courtois  & 330              \\\\\n",
       "\t  31432            & Joe Hart          & 328              \\\\\n",
       "\t  30660            & Pepe Reina        & 327              \\\\\n",
       "\\end{tabular}\n"
      ],
      "text/markdown": [
       "\n",
       "player_api_id | player_name | gk_rating | \n",
       "|---|---|---|---|---|---|---|---|---|---|\n",
       "|  27299            | Manuel Neuer      | 355               | \n",
       "| 182917            | David De Gea      | 341               | \n",
       "|  30726            | Edwin van der Sar | 340               | \n",
       "|  27341            | Robert Enke,30    | 339               | \n",
       "|  37421            | Claudio Bravo     | 333               | \n",
       "|  30859            | Petr Cech         | 331               | \n",
       "| 215168            | Bernd Leno        | 331               | \n",
       "| 170323            | Thibaut Courtois  | 330               | \n",
       "|  31432            | Joe Hart          | 328               | \n",
       "|  30660            | Pepe Reina        | 327               | \n",
       "\n",
       "\n"
      ],
      "text/plain": [
       "   player_api_id player_name       gk_rating\n",
       "1   27299        Manuel Neuer      355      \n",
       "2  182917        David De Gea      341      \n",
       "3   30726        Edwin van der Sar 340      \n",
       "4   27341        Robert Enke,30    339      \n",
       "5   37421        Claudio Bravo     333      \n",
       "6   30859        Petr Cech         331      \n",
       "7  215168        Bernd Leno        331      \n",
       "8  170323        Thibaut Courtois  330      \n",
       "9   31432        Joe Hart          328      \n",
       "10  30660        Pepe Reina        327      "
      ]
     },
     "metadata": {},
     "output_type": "display_data"
    }
   ],
   "source": [
    "# Which are the top 10 goalkeepers by sum of gk attributes?\n",
    "playerDF %>% arrange(desc(gk_rating)) %>% \n",
    "            slice(1:10) %>% \n",
    "            select(player_api_id,player_name,gk_rating)"
   ]
  },
  {
   "cell_type": "code",
   "execution_count": 5,
   "metadata": {
    "collapsed": false
   },
   "outputs": [
    {
     "data": {
      "text/html": [
       "<table>\n",
       "<thead><tr><th scope=col>player_api_id</th><th scope=col>player_name</th><th scope=col>num_appearences</th></tr></thead>\n",
       "<tbody>\n",
       "\t<tr><td>31293               </td><td>Steve Mandanda      </td><td>300                 </td></tr>\n",
       "\t<tr><td>41097               </td><td>Stephane Ruffier    </td><td>294                 </td></tr>\n",
       "\t<tr><td>33764               </td><td>Gorka Iraizoz Moreno</td><td>286                 </td></tr>\n",
       "\t<tr><td>42422               </td><td>Samir Handanovic    </td><td>286                 </td></tr>\n",
       "\t<tr><td>26295               </td><td>Hugo Lloris         </td><td>282                 </td></tr>\n",
       "\t<tr><td>31465               </td><td>Tim Howard          </td><td>282                 </td></tr>\n",
       "\t<tr><td>31432               </td><td>Joe Hart            </td><td>275                 </td></tr>\n",
       "\t<tr><td>26168               </td><td>Cedric Carrasso     </td><td>268                 </td></tr>\n",
       "\t<tr><td>26399               </td><td>Daniel Congre       </td><td>262                 </td></tr>\n",
       "\t<tr><td>94550               </td><td>Moussa Sissoko      </td><td>260                 </td></tr>\n",
       "</tbody>\n",
       "</table>\n"
      ],
      "text/latex": [
       "\\begin{tabular}{r|lll}\n",
       " player\\_api\\_id & player\\_name & num\\_appearences\\\\\n",
       "\\hline\n",
       "\t 31293                & Steve Mandanda       & 300                 \\\\\n",
       "\t 41097                & Stephane Ruffier     & 294                 \\\\\n",
       "\t 33764                & Gorka Iraizoz Moreno & 286                 \\\\\n",
       "\t 42422                & Samir Handanovic     & 286                 \\\\\n",
       "\t 26295                & Hugo Lloris          & 282                 \\\\\n",
       "\t 31465                & Tim Howard           & 282                 \\\\\n",
       "\t 31432                & Joe Hart             & 275                 \\\\\n",
       "\t 26168                & Cedric Carrasso      & 268                 \\\\\n",
       "\t 26399                & Daniel Congre        & 262                 \\\\\n",
       "\t 94550                & Moussa Sissoko       & 260                 \\\\\n",
       "\\end{tabular}\n"
      ],
      "text/markdown": [
       "\n",
       "player_api_id | player_name | num_appearences | \n",
       "|---|---|---|---|---|---|---|---|---|---|\n",
       "| 31293                | Steve Mandanda       | 300                  | \n",
       "| 41097                | Stephane Ruffier     | 294                  | \n",
       "| 33764                | Gorka Iraizoz Moreno | 286                  | \n",
       "| 42422                | Samir Handanovic     | 286                  | \n",
       "| 26295                | Hugo Lloris          | 282                  | \n",
       "| 31465                | Tim Howard           | 282                  | \n",
       "| 31432                | Joe Hart             | 275                  | \n",
       "| 26168                | Cedric Carrasso      | 268                  | \n",
       "| 26399                | Daniel Congre        | 262                  | \n",
       "| 94550                | Moussa Sissoko       | 260                  | \n",
       "\n",
       "\n"
      ],
      "text/plain": [
       "   player_api_id player_name          num_appearences\n",
       "1  31293         Steve Mandanda       300            \n",
       "2  41097         Stephane Ruffier     294            \n",
       "3  33764         Gorka Iraizoz Moreno 286            \n",
       "4  42422         Samir Handanovic     286            \n",
       "5  26295         Hugo Lloris          282            \n",
       "6  31465         Tim Howard           282            \n",
       "7  31432         Joe Hart             275            \n",
       "8  26168         Cedric Carrasso      268            \n",
       "9  26399         Daniel Congre        262            \n",
       "10 94550         Moussa Sissoko       260            "
      ]
     },
     "metadata": {},
     "output_type": "display_data"
    }
   ],
   "source": [
    "# Which are the top 10 players by number of appearances (with any team they played with)?\n",
    "playerDF %>% arrange(desc(num_appearences)) %>% \n",
    "            slice(1:10) %>% \n",
    "            select(player_api_id,player_name,num_appearences)"
   ]
  },
  {
   "cell_type": "code",
   "execution_count": 6,
   "metadata": {
    "collapsed": false
   },
   "outputs": [
    {
     "data": {
      "text/html": [
       "<table>\n",
       "<thead><tr><th scope=col>player_api_id</th><th scope=col>player_name</th><th scope=col>num_leagues</th></tr></thead>\n",
       "<tbody>\n",
       "\t<tr><td> 42119               </td><td>Gelson Fernandes     </td><td>6                    </td></tr>\n",
       "\t<tr><td>116750               </td><td>Ricky van Wolfswinkel</td><td>5                    </td></tr>\n",
       "\t<tr><td>178538               </td><td>Filip Djuricic       </td><td>5                    </td></tr>\n",
       "\t<tr><td> 22543               </td><td>Radamel Falcao       </td><td>4                    </td></tr>\n",
       "\t<tr><td> 24123               </td><td>Jonathan De Guzman   </td><td>4                    </td></tr>\n",
       "\t<tr><td> 25816               </td><td>Almen Abdi           </td><td>4                    </td></tr>\n",
       "\t<tr><td> 26434               </td><td>Ibrahim Afellay      </td><td>4                    </td></tr>\n",
       "\t<tr><td> 26489               </td><td>Edson Braafheid      </td><td>4                    </td></tr>\n",
       "\t<tr><td> 26675               </td><td>Eljero Elia          </td><td>4                    </td></tr>\n",
       "\t<tr><td> 30477               </td><td>Danijel Pranjic      </td><td>4                    </td></tr>\n",
       "</tbody>\n",
       "</table>\n"
      ],
      "text/latex": [
       "\\begin{tabular}{r|lll}\n",
       " player\\_api\\_id & player\\_name & num\\_leagues\\\\\n",
       "\\hline\n",
       "\t  42119                & Gelson Fernandes      & 6                    \\\\\n",
       "\t 116750                & Ricky van Wolfswinkel & 5                    \\\\\n",
       "\t 178538                & Filip Djuricic        & 5                    \\\\\n",
       "\t  22543                & Radamel Falcao        & 4                    \\\\\n",
       "\t  24123                & Jonathan De Guzman    & 4                    \\\\\n",
       "\t  25816                & Almen Abdi            & 4                    \\\\\n",
       "\t  26434                & Ibrahim Afellay       & 4                    \\\\\n",
       "\t  26489                & Edson Braafheid       & 4                    \\\\\n",
       "\t  26675                & Eljero Elia           & 4                    \\\\\n",
       "\t  30477                & Danijel Pranjic       & 4                    \\\\\n",
       "\\end{tabular}\n"
      ],
      "text/markdown": [
       "\n",
       "player_api_id | player_name | num_leagues | \n",
       "|---|---|---|---|---|---|---|---|---|---|\n",
       "|  42119                | Gelson Fernandes      | 6                     | \n",
       "| 116750                | Ricky van Wolfswinkel | 5                     | \n",
       "| 178538                | Filip Djuricic        | 5                     | \n",
       "|  22543                | Radamel Falcao        | 4                     | \n",
       "|  24123                | Jonathan De Guzman    | 4                     | \n",
       "|  25816                | Almen Abdi            | 4                     | \n",
       "|  26434                | Ibrahim Afellay       | 4                     | \n",
       "|  26489                | Edson Braafheid       | 4                     | \n",
       "|  26675                | Eljero Elia           | 4                     | \n",
       "|  30477                | Danijel Pranjic       | 4                     | \n",
       "\n",
       "\n"
      ],
      "text/plain": [
       "   player_api_id player_name           num_leagues\n",
       "1   42119        Gelson Fernandes      6          \n",
       "2  116750        Ricky van Wolfswinkel 5          \n",
       "3  178538        Filip Djuricic        5          \n",
       "4   22543        Radamel Falcao        4          \n",
       "5   24123        Jonathan De Guzman    4          \n",
       "6   25816        Almen Abdi            4          \n",
       "7   26434        Ibrahim Afellay       4          \n",
       "8   26489        Edson Braafheid       4          \n",
       "9   26675        Eljero Elia           4          \n",
       "10  30477        Danijel Pranjic       4          "
      ]
     },
     "metadata": {},
     "output_type": "display_data"
    }
   ],
   "source": [
    "# Which are the top 10 players by number of leagues they played in?\n",
    "playerDF %>% arrange(desc(num_leagues)) %>% \n",
    "            slice(1:10) %>%\n",
    "            select(player_api_id,player_name,num_leagues)"
   ]
  },
  {
   "cell_type": "code",
   "execution_count": 7,
   "metadata": {
    "collapsed": false
   },
   "outputs": [
    {
     "data": {
      "text/html": [
       "<table>\n",
       "<thead><tr><th scope=col>team_api_id</th><th scope=col>team_long_name</th><th scope=col>buildUpPlay</th></tr></thead>\n",
       "<tbody>\n",
       "\t<tr><td>  8024                    </td><td>Widzew Łódź               </td><td>190                       </td></tr>\n",
       "\t<tr><td>  8244                    </td><td>Widzew Łódź               </td><td>190                       </td></tr>\n",
       "\t<tr><td>208931                    </td><td>Carpi                     </td><td>190                       </td></tr>\n",
       "\t<tr><td>  8033                    </td><td>Podbeskidzie Bielsko-Biała</td><td>189                       </td></tr>\n",
       "\t<tr><td>  9830                    </td><td>FC Nantes                 </td><td>189                       </td></tr>\n",
       "\t<tr><td>  8543                    </td><td>Lazio                     </td><td>188                       </td></tr>\n",
       "\t<tr><td>  8533                    </td><td>Chievo Verona             </td><td>187                       </td></tr>\n",
       "\t<tr><td>  8600                    </td><td>Udinese                   </td><td>185                       </td></tr>\n",
       "\t<tr><td>  8655                    </td><td>Blackburn Rovers          </td><td>185                       </td></tr>\n",
       "\t<tr><td> 10233                    </td><td>Genoa                     </td><td>184                       </td></tr>\n",
       "</tbody>\n",
       "</table>\n"
      ],
      "text/latex": [
       "\\begin{tabular}{r|lll}\n",
       " team\\_api\\_id & team\\_long\\_name & buildUpPlay\\\\\n",
       "\\hline\n",
       "\t   8024                     & Widzew Łódź                & 190                       \\\\\n",
       "\t   8244                     & Widzew Łódź                & 190                       \\\\\n",
       "\t 208931                     & Carpi                      & 190                       \\\\\n",
       "\t   8033                     & Podbeskidzie Bielsko-Biała & 189                       \\\\\n",
       "\t   9830                     & FC Nantes                  & 189                       \\\\\n",
       "\t   8543                     & Lazio                      & 188                       \\\\\n",
       "\t   8533                     & Chievo Verona              & 187                       \\\\\n",
       "\t   8600                     & Udinese                    & 185                       \\\\\n",
       "\t   8655                     & Blackburn Rovers           & 185                       \\\\\n",
       "\t  10233                     & Genoa                      & 184                       \\\\\n",
       "\\end{tabular}\n"
      ],
      "text/markdown": [
       "\n",
       "team_api_id | team_long_name | buildUpPlay | \n",
       "|---|---|---|---|---|---|---|---|---|---|\n",
       "|   8024                     | Widzew Łódź                | 190                        | \n",
       "|   8244                     | Widzew Łódź                | 190                        | \n",
       "| 208931                     | Carpi                      | 190                        | \n",
       "|   8033                     | Podbeskidzie Bielsko-Biała | 189                        | \n",
       "|   9830                     | FC Nantes                  | 189                        | \n",
       "|   8543                     | Lazio                      | 188                        | \n",
       "|   8533                     | Chievo Verona              | 187                        | \n",
       "|   8600                     | Udinese                    | 185                        | \n",
       "|   8655                     | Blackburn Rovers           | 185                        | \n",
       "|  10233                     | Genoa                      | 184                        | \n",
       "\n",
       "\n"
      ],
      "text/plain": [
       "   team_api_id team_long_name             buildUpPlay\n",
       "1    8024      Widzew Łódź                190        \n",
       "2    8244      Widzew Łódź                190        \n",
       "3  208931      Carpi                      190        \n",
       "4    8033      Podbeskidzie Bielsko-Biała 189        \n",
       "5    9830      FC Nantes                  189        \n",
       "6    8543      Lazio                      188        \n",
       "7    8533      Chievo Verona              187        \n",
       "8    8600      Udinese                    185        \n",
       "9    8655      Blackburn Rovers           185        \n",
       "10  10233      Genoa                      184        "
      ]
     },
     "metadata": {},
     "output_type": "display_data"
    }
   ],
   "source": [
    "# Which are the top 10 teams by sum of build up play attributes?\n",
    "teamDF %>% arrange(desc(buildUpPlay)) %>% \n",
    "            slice(1:10) %>%\n",
    "            select(team_api_id,team_long_name,buildUpPlay)"
   ]
  },
  {
   "cell_type": "code",
   "execution_count": 8,
   "metadata": {
    "collapsed": false
   },
   "outputs": [
    {
     "data": {
      "text/html": [
       "<table>\n",
       "<thead><tr><th scope=col>team_api_id</th><th scope=col>team_long_name</th><th scope=col>chanceCreation</th></tr></thead>\n",
       "<tbody>\n",
       "\t<tr><td>8543                  </td><td>Lazio                 </td><td>220                   </td></tr>\n",
       "\t<tr><td>8658                  </td><td>Birmingham City       </td><td>203                   </td></tr>\n",
       "\t<tr><td>8596                  </td><td>Falkirk               </td><td>200                   </td></tr>\n",
       "\t<tr><td>8429                  </td><td>Hamilton Academical FC</td><td>197                   </td></tr>\n",
       "\t<tr><td>2182                  </td><td>Lech Poznań           </td><td>196                   </td></tr>\n",
       "\t<tr><td>8529                  </td><td>Cagliari              </td><td>196                   </td></tr>\n",
       "\t<tr><td>9885                  </td><td>Juventus              </td><td>195                   </td></tr>\n",
       "\t<tr><td>8178                  </td><td>Bayer 04 Leverkusen   </td><td>192                   </td></tr>\n",
       "\t<tr><td>8697                  </td><td>SV Werder Bremen      </td><td>192                   </td></tr>\n",
       "\t<tr><td>8686                  </td><td>Roma                  </td><td>191                   </td></tr>\n",
       "</tbody>\n",
       "</table>\n"
      ],
      "text/latex": [
       "\\begin{tabular}{r|lll}\n",
       " team\\_api\\_id & team\\_long\\_name & chanceCreation\\\\\n",
       "\\hline\n",
       "\t 8543                   & Lazio                  & 220                   \\\\\n",
       "\t 8658                   & Birmingham City        & 203                   \\\\\n",
       "\t 8596                   & Falkirk                & 200                   \\\\\n",
       "\t 8429                   & Hamilton Academical FC & 197                   \\\\\n",
       "\t 2182                   & Lech Poznań            & 196                   \\\\\n",
       "\t 8529                   & Cagliari               & 196                   \\\\\n",
       "\t 9885                   & Juventus               & 195                   \\\\\n",
       "\t 8178                   & Bayer 04 Leverkusen    & 192                   \\\\\n",
       "\t 8697                   & SV Werder Bremen       & 192                   \\\\\n",
       "\t 8686                   & Roma                   & 191                   \\\\\n",
       "\\end{tabular}\n"
      ],
      "text/markdown": [
       "\n",
       "team_api_id | team_long_name | chanceCreation | \n",
       "|---|---|---|---|---|---|---|---|---|---|\n",
       "| 8543                   | Lazio                  | 220                    | \n",
       "| 8658                   | Birmingham City        | 203                    | \n",
       "| 8596                   | Falkirk                | 200                    | \n",
       "| 8429                   | Hamilton Academical FC | 197                    | \n",
       "| 2182                   | Lech Poznań            | 196                    | \n",
       "| 8529                   | Cagliari               | 196                    | \n",
       "| 9885                   | Juventus               | 195                    | \n",
       "| 8178                   | Bayer 04 Leverkusen    | 192                    | \n",
       "| 8697                   | SV Werder Bremen       | 192                    | \n",
       "| 8686                   | Roma                   | 191                    | \n",
       "\n",
       "\n"
      ],
      "text/plain": [
       "   team_api_id team_long_name         chanceCreation\n",
       "1  8543        Lazio                  220           \n",
       "2  8658        Birmingham City        203           \n",
       "3  8596        Falkirk                200           \n",
       "4  8429        Hamilton Academical FC 197           \n",
       "5  2182        Lech Poznań            196           \n",
       "6  8529        Cagliari               196           \n",
       "7  9885        Juventus               195           \n",
       "8  8178        Bayer 04 Leverkusen    192           \n",
       "9  8697        SV Werder Bremen       192           \n",
       "10 8686        Roma                   191           "
      ]
     },
     "metadata": {},
     "output_type": "display_data"
    }
   ],
   "source": [
    "# Which are the top 10 teams by sum of chance creation attributes?\n",
    "teamDF %>% arrange(desc(chanceCreation)) %>% \n",
    "            slice(1:10) %>%\n",
    "            select(team_api_id,team_long_name,chanceCreation)"
   ]
  },
  {
   "cell_type": "code",
   "execution_count": 9,
   "metadata": {
    "collapsed": false
   },
   "outputs": [
    {
     "data": {
      "text/html": [
       "<table>\n",
       "<thead><tr><th scope=col>team_api_id</th><th scope=col>team_long_name</th><th scope=col>defence</th></tr></thead>\n",
       "<tbody>\n",
       "\t<tr><td>8242               </td><td>Odra Wodzisław     </td><td>205                </td></tr>\n",
       "\t<tr><td>9999               </td><td>KSV Roeselare      </td><td>205                </td></tr>\n",
       "\t<tr><td>8596               </td><td>Falkirk            </td><td>200                </td></tr>\n",
       "\t<tr><td>8634               </td><td>FC Barcelona       </td><td>191                </td></tr>\n",
       "\t<tr><td>8543               </td><td>Lazio              </td><td>190                </td></tr>\n",
       "\t<tr><td>8529               </td><td>Cagliari           </td><td>187                </td></tr>\n",
       "\t<tr><td>9823               </td><td>FC Bayern Munich   </td><td>184                </td></tr>\n",
       "\t<tr><td>8178               </td><td>Bayer 04 Leverkusen</td><td>183                </td></tr>\n",
       "\t<tr><td>8191               </td><td>Burnley            </td><td>183                </td></tr>\n",
       "\t<tr><td>8697               </td><td>SV Werder Bremen   </td><td>183                </td></tr>\n",
       "</tbody>\n",
       "</table>\n"
      ],
      "text/latex": [
       "\\begin{tabular}{r|lll}\n",
       " team\\_api\\_id & team\\_long\\_name & defence\\\\\n",
       "\\hline\n",
       "\t 8242                & Odra Wodzisław      & 205                \\\\\n",
       "\t 9999                & KSV Roeselare       & 205                \\\\\n",
       "\t 8596                & Falkirk             & 200                \\\\\n",
       "\t 8634                & FC Barcelona        & 191                \\\\\n",
       "\t 8543                & Lazio               & 190                \\\\\n",
       "\t 8529                & Cagliari            & 187                \\\\\n",
       "\t 9823                & FC Bayern Munich    & 184                \\\\\n",
       "\t 8178                & Bayer 04 Leverkusen & 183                \\\\\n",
       "\t 8191                & Burnley             & 183                \\\\\n",
       "\t 8697                & SV Werder Bremen    & 183                \\\\\n",
       "\\end{tabular}\n"
      ],
      "text/markdown": [
       "\n",
       "team_api_id | team_long_name | defence | \n",
       "|---|---|---|---|---|---|---|---|---|---|\n",
       "| 8242                | Odra Wodzisław      | 205                 | \n",
       "| 9999                | KSV Roeselare       | 205                 | \n",
       "| 8596                | Falkirk             | 200                 | \n",
       "| 8634                | FC Barcelona        | 191                 | \n",
       "| 8543                | Lazio               | 190                 | \n",
       "| 8529                | Cagliari            | 187                 | \n",
       "| 9823                | FC Bayern Munich    | 184                 | \n",
       "| 8178                | Bayer 04 Leverkusen | 183                 | \n",
       "| 8191                | Burnley             | 183                 | \n",
       "| 8697                | SV Werder Bremen    | 183                 | \n",
       "\n",
       "\n"
      ],
      "text/plain": [
       "   team_api_id team_long_name      defence\n",
       "1  8242        Odra Wodzisław      205    \n",
       "2  9999        KSV Roeselare       205    \n",
       "3  8596        Falkirk             200    \n",
       "4  8634        FC Barcelona        191    \n",
       "5  8543        Lazio               190    \n",
       "6  8529        Cagliari            187    \n",
       "7  9823        FC Bayern Munich    184    \n",
       "8  8178        Bayer 04 Leverkusen 183    \n",
       "9  8191        Burnley             183    \n",
       "10 8697        SV Werder Bremen    183    "
      ]
     },
     "metadata": {},
     "output_type": "display_data"
    }
   ],
   "source": [
    "# Which are the top 10 teams by sum of defense attributes?\n",
    "teamDF %>% arrange(desc(defence)) %>% \n",
    "            slice(1:10) %>%\n",
    "            select(team_api_id,team_long_name,defence)"
   ]
  },
  {
   "cell_type": "code",
   "execution_count": 10,
   "metadata": {
    "collapsed": false
   },
   "outputs": [
    {
     "data": {
      "text/html": [
       "<table>\n",
       "<thead><tr><th scope=col>team_api_id</th><th scope=col>team_long_name</th><th scope=col>num_fielded_players</th></tr></thead>\n",
       "<tbody>\n",
       "\t<tr><td>10233               </td><td>Genoa               </td><td>138                 </td></tr>\n",
       "\t<tr><td>10238               </td><td>Vitória Setúbal     </td><td>122                 </td></tr>\n",
       "\t<tr><td>10264               </td><td>SC Braga            </td><td>121                 </td></tr>\n",
       "\t<tr><td> 8597               </td><td>Kilmarnock          </td><td>115                 </td></tr>\n",
       "\t<tr><td> 9985               </td><td>Standard de Liège   </td><td>114                 </td></tr>\n",
       "\t<tr><td> 9857               </td><td>Bologna             </td><td>113                 </td></tr>\n",
       "\t<tr><td> 7844               </td><td>Vitória Guimarães   </td><td>109                 </td></tr>\n",
       "\t<tr><td> 9882               </td><td>Sampdoria           </td><td>108                 </td></tr>\n",
       "\t<tr><td>10215               </td><td>Académica de Coimbra</td><td>108                 </td></tr>\n",
       "\t<tr><td> 8540               </td><td>Palermo             </td><td>106                 </td></tr>\n",
       "</tbody>\n",
       "</table>\n"
      ],
      "text/latex": [
       "\\begin{tabular}{r|lll}\n",
       " team\\_api\\_id & team\\_long\\_name & num\\_fielded\\_players\\\\\n",
       "\\hline\n",
       "\t 10233                & Genoa                & 138                 \\\\\n",
       "\t 10238                & Vitória Setúbal      & 122                 \\\\\n",
       "\t 10264                & SC Braga             & 121                 \\\\\n",
       "\t  8597                & Kilmarnock           & 115                 \\\\\n",
       "\t  9985                & Standard de Liège    & 114                 \\\\\n",
       "\t  9857                & Bologna              & 113                 \\\\\n",
       "\t  7844                & Vitória Guimarães    & 109                 \\\\\n",
       "\t  9882                & Sampdoria            & 108                 \\\\\n",
       "\t 10215                & Académica de Coimbra & 108                 \\\\\n",
       "\t  8540                & Palermo              & 106                 \\\\\n",
       "\\end{tabular}\n"
      ],
      "text/markdown": [
       "\n",
       "team_api_id | team_long_name | num_fielded_players | \n",
       "|---|---|---|---|---|---|---|---|---|---|\n",
       "| 10233                | Genoa                | 138                  | \n",
       "| 10238                | Vitória Setúbal      | 122                  | \n",
       "| 10264                | SC Braga             | 121                  | \n",
       "|  8597                | Kilmarnock           | 115                  | \n",
       "|  9985                | Standard de Liège    | 114                  | \n",
       "|  9857                | Bologna              | 113                  | \n",
       "|  7844                | Vitória Guimarães    | 109                  | \n",
       "|  9882                | Sampdoria            | 108                  | \n",
       "| 10215                | Académica de Coimbra | 108                  | \n",
       "|  8540                | Palermo              | 106                  | \n",
       "\n",
       "\n"
      ],
      "text/plain": [
       "   team_api_id team_long_name       num_fielded_players\n",
       "1  10233       Genoa                138                \n",
       "2  10238       Vitória Setúbal      122                \n",
       "3  10264       SC Braga             121                \n",
       "4   8597       Kilmarnock           115                \n",
       "5   9985       Standard de Liège    114                \n",
       "6   9857       Bologna              113                \n",
       "7   7844       Vitória Guimarães    109                \n",
       "8   9882       Sampdoria            108                \n",
       "9  10215       Académica de Coimbra 108                \n",
       "10  8540       Palermo              106                "
      ]
     },
     "metadata": {},
     "output_type": "display_data"
    }
   ],
   "source": [
    "# Which are the top 10 teams by number of fielded players \n",
    "# (i.e. number of players the team has sent to the field across all matches)?\n",
    "teamDF %>% arrange(desc(num_fielded_players)) %>% \n",
    "            slice(1:10) %>%\n",
    "            select(team_api_id,team_long_name,num_fielded_players)"
   ]
  },
  {
   "cell_type": "code",
   "execution_count": null,
   "metadata": {
    "collapsed": true
   },
   "outputs": [],
   "source": []
  }
 ],
 "metadata": {
  "kernelspec": {
   "display_name": "R",
   "language": "R",
   "name": "ir"
  },
  "language_info": {
   "codemirror_mode": "r",
   "file_extension": ".r",
   "mimetype": "text/x-r-source",
   "name": "R",
   "pygments_lexer": "r",
   "version": "3.3.2"
  }
 },
 "nbformat": 4,
 "nbformat_minor": 2
}
